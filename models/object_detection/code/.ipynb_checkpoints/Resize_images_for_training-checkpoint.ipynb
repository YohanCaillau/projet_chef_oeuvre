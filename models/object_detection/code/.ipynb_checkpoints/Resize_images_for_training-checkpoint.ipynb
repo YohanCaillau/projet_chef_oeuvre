{
 "cells": [
  {
   "cell_type": "code",
   "execution_count": 1,
   "id": "wooden-motorcycle",
   "metadata": {
    "ExecuteTime": {
     "end_time": "2021-03-14T03:29:53.715558Z",
     "start_time": "2021-03-14T03:29:53.616556Z"
    }
   },
   "outputs": [],
   "source": [
    "import PIL\n",
    "import os\n",
    "from PIL import Image\n",
    "import glob"
   ]
  },
  {
   "cell_type": "code",
   "execution_count": 2,
   "id": "behavioral-newfoundland",
   "metadata": {
    "ExecuteTime": {
     "end_time": "2021-03-14T03:30:44.244333Z",
     "start_time": "2021-03-14T03:30:44.238421Z"
    }
   },
   "outputs": [],
   "source": [
    "f_train = r'C:/Users/utilisateur/Desktop/object_detection/data/train'\n",
    "f_test = r'C:/Users/utilisateur/Desktop/object_detection/data/test'"
   ]
  },
  {
   "cell_type": "code",
   "execution_count": 5,
   "id": "requested-casino",
   "metadata": {
    "ExecuteTime": {
     "end_time": "2021-03-14T03:48:48.555925Z",
     "start_time": "2021-03-14T03:47:47.662502Z"
    }
   },
   "outputs": [],
   "source": [
    "from PIL import Image\n",
    "import glob\n",
    "\n",
    "for filename in glob.glob(f_train+'/*.JPG'):\n",
    "    file_name = filename\n",
    "    img = Image.open(filename)\n",
    "    img = img.resize((640,480))\n",
    "    img.save(file_name)"
   ]
  },
  {
   "cell_type": "code",
   "execution_count": 6,
   "id": "involved-pharmacy",
   "metadata": {
    "ExecuteTime": {
     "end_time": "2021-03-14T03:49:51.019915Z",
     "start_time": "2021-03-14T03:49:47.936952Z"
    }
   },
   "outputs": [],
   "source": [
    "from PIL import Image\n",
    "import glob\n",
    "\n",
    "for filename in glob.glob(f_test+'/*.JPG'):\n",
    "    file_name = filename\n",
    "    img = Image.open(filename)\n",
    "    img = img.resize((640,480))\n",
    "    img.save(file_name)"
   ]
  }
 ],
 "metadata": {
  "kernelspec": {
   "display_name": "Python 3",
   "language": "python",
   "name": "python3"
  },
  "language_info": {
   "codemirror_mode": {
    "name": "ipython",
    "version": 3
   },
   "file_extension": ".py",
   "mimetype": "text/x-python",
   "name": "python",
   "nbconvert_exporter": "python",
   "pygments_lexer": "ipython3",
   "version": "3.7.9"
  }
 },
 "nbformat": 4,
 "nbformat_minor": 5
}
